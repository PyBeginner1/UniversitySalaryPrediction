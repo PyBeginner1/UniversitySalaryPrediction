{
  "nbformat": 4,
  "nbformat_minor": 0,
  "metadata": {
    "colab": {
      "name": "UniversitySalaryprediction",
      "provenance": [],
      "collapsed_sections": [],
      "authorship_tag": "ABX9TyPwueuPRR//BiulTqJMwvjY",
      "include_colab_link": true
    },
    "kernelspec": {
      "name": "python3",
      "display_name": "Python 3"
    },
    "language_info": {
      "name": "python"
    }
  },
  "cells": [
    {
      "cell_type": "markdown",
      "metadata": {
        "id": "view-in-github",
        "colab_type": "text"
      },
      "source": [
        "<a href=\"https://colab.research.google.com/github/PyBeginner1/UniversitySalaryPrediction/blob/main/UniversitySalaryprediction.ipynb\" target=\"_parent\"><img src=\"https://colab.research.google.com/assets/colab-badge.svg\" alt=\"Open In Colab\"/></a>"
      ]
    },
    {
      "cell_type": "code",
      "metadata": {
        "id": "Z-JF-BD11w4D"
      },
      "source": [
        "import numpy as np\n",
        "import pandas as pd\n",
        "\n",
        "from sklearn.preprocessing import OneHotEncoder, StandardScaler\n",
        "from sklearn.compose import ColumnTransformer\n",
        "from sklearn.pipeline import Pipeline\n",
        "from sklearn.model_selection import KFold\n",
        "\n",
        "from sklearn.linear_model import Ridge\n",
        "from sklearn.tree import DecisionTreeRegressor\n",
        "from sklearn.neural_network import MLPRegressor\n",
        "from sklearn.ensemble import GradientBoostingRegressor, RandomForestRegressor\n",
        "\n",
        "import warnings\n",
        "warnings.filterwarnings(action='ignore')"
      ],
      "execution_count": 2,
      "outputs": []
    },
    {
      "cell_type": "code",
      "metadata": {
        "id": "vbvZXccE2s4b"
      },
      "source": [
        "data = pd.read_csv('/content/salaries_final.csv')"
      ],
      "execution_count": 3,
      "outputs": []
    },
    {
      "cell_type": "code",
      "metadata": {
        "colab": {
          "base_uri": "https://localhost:8080/",
          "height": 417
        },
        "id": "PKrnotqF2zhR",
        "outputId": "4a1f498e-0556-436a-ef90-7228063c6dc9"
      },
      "source": [
        "data"
      ],
      "execution_count": 4,
      "outputs": [
        {
          "output_type": "execute_result",
          "data": {
            "text/html": [
              "<div>\n",
              "<style scoped>\n",
              "    .dataframe tbody tr th:only-of-type {\n",
              "        vertical-align: middle;\n",
              "    }\n",
              "\n",
              "    .dataframe tbody tr th {\n",
              "        vertical-align: top;\n",
              "    }\n",
              "\n",
              "    .dataframe thead th {\n",
              "        text-align: right;\n",
              "    }\n",
              "</style>\n",
              "<table border=\"1\" class=\"dataframe\">\n",
              "  <thead>\n",
              "    <tr style=\"text-align: right;\">\n",
              "      <th></th>\n",
              "      <th>Year</th>\n",
              "      <th>Name</th>\n",
              "      <th>Primary Job Title</th>\n",
              "      <th>Base Pay</th>\n",
              "      <th>Department</th>\n",
              "      <th>College</th>\n",
              "    </tr>\n",
              "  </thead>\n",
              "  <tbody>\n",
              "    <tr>\n",
              "      <th>0</th>\n",
              "      <td>2010</td>\n",
              "      <td>Abaied, Jamie L.</td>\n",
              "      <td>Assistant Professor</td>\n",
              "      <td>64000.0</td>\n",
              "      <td>Department of Psychological Science</td>\n",
              "      <td>CAS</td>\n",
              "    </tr>\n",
              "    <tr>\n",
              "      <th>1</th>\n",
              "      <td>2011</td>\n",
              "      <td>Abaied, Jamie L.</td>\n",
              "      <td>Assistant Professor</td>\n",
              "      <td>64000.0</td>\n",
              "      <td>Department of Psychological Science</td>\n",
              "      <td>CAS</td>\n",
              "    </tr>\n",
              "    <tr>\n",
              "      <th>2</th>\n",
              "      <td>2012</td>\n",
              "      <td>Abaied, Jamie L.</td>\n",
              "      <td>Assistant Professor</td>\n",
              "      <td>65229.0</td>\n",
              "      <td>Department of Psychological Science</td>\n",
              "      <td>CAS</td>\n",
              "    </tr>\n",
              "    <tr>\n",
              "      <th>3</th>\n",
              "      <td>2013</td>\n",
              "      <td>Abaied, Jamie L.</td>\n",
              "      <td>Assistant Professor</td>\n",
              "      <td>66969.0</td>\n",
              "      <td>Department of Psychological Science</td>\n",
              "      <td>CAS</td>\n",
              "    </tr>\n",
              "    <tr>\n",
              "      <th>4</th>\n",
              "      <td>2014</td>\n",
              "      <td>Abaied, Jamie L.</td>\n",
              "      <td>Assistant Professor</td>\n",
              "      <td>68658.0</td>\n",
              "      <td>Department of Psychological Science</td>\n",
              "      <td>CAS</td>\n",
              "    </tr>\n",
              "    <tr>\n",
              "      <th>...</th>\n",
              "      <td>...</td>\n",
              "      <td>...</td>\n",
              "      <td>...</td>\n",
              "      <td>...</td>\n",
              "      <td>...</td>\n",
              "      <td>...</td>\n",
              "    </tr>\n",
              "    <tr>\n",
              "      <th>14465</th>\n",
              "      <td>2016</td>\n",
              "      <td>van der Vliet, Albert</td>\n",
              "      <td>Professor</td>\n",
              "      <td>163635.0</td>\n",
              "      <td>Department of Pathology&amp;Laboratory Medicine</td>\n",
              "      <td>COM</td>\n",
              "    </tr>\n",
              "    <tr>\n",
              "      <th>14466</th>\n",
              "      <td>2017</td>\n",
              "      <td>van der Vliet, Albert</td>\n",
              "      <td>Professor</td>\n",
              "      <td>175294.0</td>\n",
              "      <td>Department of Pathology&amp;Laboratory Medicine</td>\n",
              "      <td>COM</td>\n",
              "    </tr>\n",
              "    <tr>\n",
              "      <th>14467</th>\n",
              "      <td>2018</td>\n",
              "      <td>van der Vliet, Albert</td>\n",
              "      <td>Professor</td>\n",
              "      <td>191000.0</td>\n",
              "      <td>Department of Pathology&amp;Laboratory Medicine</td>\n",
              "      <td>COM</td>\n",
              "    </tr>\n",
              "    <tr>\n",
              "      <th>14468</th>\n",
              "      <td>2019</td>\n",
              "      <td>van der Vliet, Albert</td>\n",
              "      <td>Professor</td>\n",
              "      <td>196000.0</td>\n",
              "      <td>Department of Pathology&amp;Laboratory Medicine</td>\n",
              "      <td>COM</td>\n",
              "    </tr>\n",
              "    <tr>\n",
              "      <th>14469</th>\n",
              "      <td>2020</td>\n",
              "      <td>van der Vliet, Albert</td>\n",
              "      <td>Professor</td>\n",
              "      <td>186200.0</td>\n",
              "      <td>Department of Pathology&amp;Laboratory Medicine</td>\n",
              "      <td>COM</td>\n",
              "    </tr>\n",
              "  </tbody>\n",
              "</table>\n",
              "<p>14470 rows × 6 columns</p>\n",
              "</div>"
            ],
            "text/plain": [
              "       Year  ... College\n",
              "0      2010  ...     CAS\n",
              "1      2011  ...     CAS\n",
              "2      2012  ...     CAS\n",
              "3      2013  ...     CAS\n",
              "4      2014  ...     CAS\n",
              "...     ...  ...     ...\n",
              "14465  2016  ...     COM\n",
              "14466  2017  ...     COM\n",
              "14467  2018  ...     COM\n",
              "14468  2019  ...     COM\n",
              "14469  2020  ...     COM\n",
              "\n",
              "[14470 rows x 6 columns]"
            ]
          },
          "metadata": {
            "tags": []
          },
          "execution_count": 4
        }
      ]
    },
    {
      "cell_type": "code",
      "metadata": {
        "colab": {
          "base_uri": "https://localhost:8080/"
        },
        "id": "IUNoc4iQ2zzi",
        "outputId": "1ca030bc-1ded-4750-eb97-b286cf87cdf3"
      },
      "source": [
        "data.isna().sum()"
      ],
      "execution_count": 5,
      "outputs": [
        {
          "output_type": "execute_result",
          "data": {
            "text/plain": [
              "Year                 0\n",
              "Name                 0\n",
              "Primary Job Title    0\n",
              "Base Pay             0\n",
              "Department           0\n",
              "College              0\n",
              "dtype: int64"
            ]
          },
          "metadata": {
            "tags": []
          },
          "execution_count": 5
        }
      ]
    },
    {
      "cell_type": "code",
      "metadata": {
        "colab": {
          "base_uri": "https://localhost:8080/"
        },
        "id": "rssX75NR2485",
        "outputId": "d7f81dd2-c3a4-47d3-ac2a-aa464ad1463e"
      },
      "source": [
        "data.info()"
      ],
      "execution_count": 6,
      "outputs": [
        {
          "output_type": "stream",
          "text": [
            "<class 'pandas.core.frame.DataFrame'>\n",
            "RangeIndex: 14470 entries, 0 to 14469\n",
            "Data columns (total 6 columns):\n",
            " #   Column             Non-Null Count  Dtype  \n",
            "---  ------             --------------  -----  \n",
            " 0   Year               14470 non-null  int64  \n",
            " 1   Name               14470 non-null  object \n",
            " 2   Primary Job Title  14470 non-null  object \n",
            " 3   Base Pay           14470 non-null  float64\n",
            " 4   Department         14470 non-null  object \n",
            " 5   College            14470 non-null  object \n",
            "dtypes: float64(1), int64(1), object(4)\n",
            "memory usage: 678.4+ KB\n"
          ],
          "name": "stdout"
        }
      ]
    },
    {
      "cell_type": "code",
      "metadata": {
        "colab": {
          "base_uri": "https://localhost:8080/",
          "height": 295
        },
        "id": "NWIemhEJ26kR",
        "outputId": "25507755-a21c-47f6-8773-736ecab99c2b"
      },
      "source": [
        "data.describe()"
      ],
      "execution_count": 7,
      "outputs": [
        {
          "output_type": "execute_result",
          "data": {
            "text/html": [
              "<div>\n",
              "<style scoped>\n",
              "    .dataframe tbody tr th:only-of-type {\n",
              "        vertical-align: middle;\n",
              "    }\n",
              "\n",
              "    .dataframe tbody tr th {\n",
              "        vertical-align: top;\n",
              "    }\n",
              "\n",
              "    .dataframe thead th {\n",
              "        text-align: right;\n",
              "    }\n",
              "</style>\n",
              "<table border=\"1\" class=\"dataframe\">\n",
              "  <thead>\n",
              "    <tr style=\"text-align: right;\">\n",
              "      <th></th>\n",
              "      <th>Year</th>\n",
              "      <th>Base Pay</th>\n",
              "    </tr>\n",
              "  </thead>\n",
              "  <tbody>\n",
              "    <tr>\n",
              "      <th>count</th>\n",
              "      <td>14470.000000</td>\n",
              "      <td>14470.000000</td>\n",
              "    </tr>\n",
              "    <tr>\n",
              "      <th>mean</th>\n",
              "      <td>2015.382308</td>\n",
              "      <td>70986.426381</td>\n",
              "    </tr>\n",
              "    <tr>\n",
              "      <th>std</th>\n",
              "      <td>3.373690</td>\n",
              "      <td>47287.464370</td>\n",
              "    </tr>\n",
              "    <tr>\n",
              "      <th>min</th>\n",
              "      <td>2009.000000</td>\n",
              "      <td>1707.000000</td>\n",
              "    </tr>\n",
              "    <tr>\n",
              "      <th>25%</th>\n",
              "      <td>2013.000000</td>\n",
              "      <td>35000.000000</td>\n",
              "    </tr>\n",
              "    <tr>\n",
              "      <th>50%</th>\n",
              "      <td>2016.000000</td>\n",
              "      <td>63550.000000</td>\n",
              "    </tr>\n",
              "    <tr>\n",
              "      <th>75%</th>\n",
              "      <td>2018.000000</td>\n",
              "      <td>90529.250000</td>\n",
              "    </tr>\n",
              "    <tr>\n",
              "      <th>max</th>\n",
              "      <td>2020.000000</td>\n",
              "      <td>446429.000000</td>\n",
              "    </tr>\n",
              "  </tbody>\n",
              "</table>\n",
              "</div>"
            ],
            "text/plain": [
              "               Year       Base Pay\n",
              "count  14470.000000   14470.000000\n",
              "mean    2015.382308   70986.426381\n",
              "std        3.373690   47287.464370\n",
              "min     2009.000000    1707.000000\n",
              "25%     2013.000000   35000.000000\n",
              "50%     2016.000000   63550.000000\n",
              "75%     2018.000000   90529.250000\n",
              "max     2020.000000  446429.000000"
            ]
          },
          "metadata": {
            "tags": []
          },
          "execution_count": 7
        }
      ]
    },
    {
      "cell_type": "code",
      "metadata": {
        "id": "iR-Fh0HO3Hby"
      },
      "source": [
        "def preprocess_inputs(df):\n",
        "  df = df.copy()\n",
        "\n",
        "  df = df.drop('Name', axis = 1)\n",
        "\n",
        "  #suffle\n",
        "  df = df.sample(frac=1.0).reset_index(drop = True)\n",
        "\n",
        "  #split X & Y\n",
        "  X = df.drop('Base Pay', axis = 1)\n",
        "  Y = df['Base Pay']\n",
        "\n",
        "  return X, Y"
      ],
      "execution_count": 37,
      "outputs": []
    },
    {
      "cell_type": "code",
      "metadata": {
        "id": "jqr20sbV4XoR"
      },
      "source": [
        "X, Y = preprocess_inputs(data)"
      ],
      "execution_count": 38,
      "outputs": []
    },
    {
      "cell_type": "code",
      "metadata": {
        "colab": {
          "base_uri": "https://localhost:8080/",
          "height": 417
        },
        "id": "Q2cQ5YAk4diB",
        "outputId": "eddc6871-b66d-47d6-872b-8ba7c6f43f72"
      },
      "source": [
        "X"
      ],
      "execution_count": 39,
      "outputs": [
        {
          "output_type": "execute_result",
          "data": {
            "text/html": [
              "<div>\n",
              "<style scoped>\n",
              "    .dataframe tbody tr th:only-of-type {\n",
              "        vertical-align: middle;\n",
              "    }\n",
              "\n",
              "    .dataframe tbody tr th {\n",
              "        vertical-align: top;\n",
              "    }\n",
              "\n",
              "    .dataframe thead th {\n",
              "        text-align: right;\n",
              "    }\n",
              "</style>\n",
              "<table border=\"1\" class=\"dataframe\">\n",
              "  <thead>\n",
              "    <tr style=\"text-align: right;\">\n",
              "      <th></th>\n",
              "      <th>Year</th>\n",
              "      <th>Primary Job Title</th>\n",
              "      <th>Department</th>\n",
              "      <th>College</th>\n",
              "    </tr>\n",
              "  </thead>\n",
              "  <tbody>\n",
              "    <tr>\n",
              "      <th>0</th>\n",
              "      <td>2020</td>\n",
              "      <td>Lecturer I</td>\n",
              "      <td>Department of Nutrition &amp; Food Sciences</td>\n",
              "      <td>CALS</td>\n",
              "    </tr>\n",
              "    <tr>\n",
              "      <th>1</th>\n",
              "      <td>2010</td>\n",
              "      <td>Assistant Professor</td>\n",
              "      <td>Department of Biomedical and Health Sci</td>\n",
              "      <td>CNHS</td>\n",
              "    </tr>\n",
              "    <tr>\n",
              "      <th>2</th>\n",
              "      <td>2019</td>\n",
              "      <td>Associate Professor</td>\n",
              "      <td>Department of Anesthesiology</td>\n",
              "      <td>COM</td>\n",
              "    </tr>\n",
              "    <tr>\n",
              "      <th>3</th>\n",
              "      <td>2018</td>\n",
              "      <td>Assistant Professor</td>\n",
              "      <td>Department of Pediatrics</td>\n",
              "      <td>COM</td>\n",
              "    </tr>\n",
              "    <tr>\n",
              "      <th>4</th>\n",
              "      <td>2009</td>\n",
              "      <td>Professor</td>\n",
              "      <td>Department of Pharmacology</td>\n",
              "      <td>COM</td>\n",
              "    </tr>\n",
              "    <tr>\n",
              "      <th>...</th>\n",
              "      <td>...</td>\n",
              "      <td>...</td>\n",
              "      <td>...</td>\n",
              "      <td>...</td>\n",
              "    </tr>\n",
              "    <tr>\n",
              "      <th>14465</th>\n",
              "      <td>2011</td>\n",
              "      <td>Assistant Professor</td>\n",
              "      <td>Department of Anesthesiology</td>\n",
              "      <td>COM</td>\n",
              "    </tr>\n",
              "    <tr>\n",
              "      <th>14466</th>\n",
              "      <td>2012</td>\n",
              "      <td>Assistant Professor</td>\n",
              "      <td>Department of English</td>\n",
              "      <td>CAS</td>\n",
              "    </tr>\n",
              "    <tr>\n",
              "      <th>14467</th>\n",
              "      <td>2020</td>\n",
              "      <td>Assistant Professor</td>\n",
              "      <td>Department of Surg-Emergency Med</td>\n",
              "      <td>COM</td>\n",
              "    </tr>\n",
              "    <tr>\n",
              "      <th>14468</th>\n",
              "      <td>2020</td>\n",
              "      <td>Assistant Professor</td>\n",
              "      <td>Department of Surg-Emergency Med</td>\n",
              "      <td>COM</td>\n",
              "    </tr>\n",
              "    <tr>\n",
              "      <th>14469</th>\n",
              "      <td>2014</td>\n",
              "      <td>Lecturer III</td>\n",
              "      <td>Department of Music</td>\n",
              "      <td>CAS</td>\n",
              "    </tr>\n",
              "  </tbody>\n",
              "</table>\n",
              "<p>14470 rows × 4 columns</p>\n",
              "</div>"
            ],
            "text/plain": [
              "       Year  ... College\n",
              "0      2020  ...    CALS\n",
              "1      2010  ...    CNHS\n",
              "2      2019  ...     COM\n",
              "3      2018  ...     COM\n",
              "4      2009  ...     COM\n",
              "...     ...  ...     ...\n",
              "14465  2011  ...     COM\n",
              "14466  2012  ...     CAS\n",
              "14467  2020  ...     COM\n",
              "14468  2020  ...     COM\n",
              "14469  2014  ...     CAS\n",
              "\n",
              "[14470 rows x 4 columns]"
            ]
          },
          "metadata": {
            "tags": []
          },
          "execution_count": 39
        }
      ]
    },
    {
      "cell_type": "code",
      "metadata": {
        "colab": {
          "base_uri": "https://localhost:8080/"
        },
        "id": "3tnKkLDS4nVa",
        "outputId": "65ffded5-6f0f-4709-d56b-67d735d2820c"
      },
      "source": [
        "Y"
      ],
      "execution_count": 40,
      "outputs": [
        {
          "output_type": "execute_result",
          "data": {
            "text/plain": [
              "0          6243.0\n",
              "1         66641.0\n",
              "2         24000.0\n",
              "3         31624.0\n",
              "4        113648.0\n",
              "           ...   \n",
              "14465     30000.0\n",
              "14466     55259.0\n",
              "14467     35000.0\n",
              "14468     35000.0\n",
              "14469     11836.0\n",
              "Name: Base Pay, Length: 14470, dtype: float64"
            ]
          },
          "metadata": {
            "tags": []
          },
          "execution_count": 40
        }
      ]
    },
    {
      "cell_type": "code",
      "metadata": {
        "id": "pyFWdcah4_ao"
      },
      "source": [
        "def build_pipeline(regressor):\n",
        "    \n",
        "    nominal_transformer = Pipeline(steps=[\n",
        "        ('onehot', OneHotEncoder(sparse=False, handle_unknown='ignore'))\n",
        "    ])\n",
        "    \n",
        "    preprocessor = ColumnTransformer(transformers=[\n",
        "        ('nominal', nominal_transformer, ['Primary Job Title', 'Department', 'College'])\n",
        "    ], remainder='passthrough')\n",
        "    \n",
        "    model = Pipeline(steps=[\n",
        "        ('preprocessor', preprocessor),\n",
        "        ('scaler', StandardScaler()),\n",
        "        ('regressor', regressor)\n",
        "    ])\n",
        "    \n",
        "    return model"
      ],
      "execution_count": 62,
      "outputs": []
    },
    {
      "cell_type": "code",
      "metadata": {
        "colab": {
          "base_uri": "https://localhost:8080/"
        },
        "id": "kmDncqop-gSJ",
        "outputId": "a7e2168b-9640-4e79-e81a-10ca13cc0004"
      },
      "source": [
        "build_pipeline(Ridge(alpha=10.0))"
      ],
      "execution_count": 63,
      "outputs": [
        {
          "output_type": "execute_result",
          "data": {
            "text/plain": [
              "Pipeline(memory=None,\n",
              "         steps=[('preprocessor',\n",
              "                 ColumnTransformer(n_jobs=None, remainder='passthrough',\n",
              "                                   sparse_threshold=0.3,\n",
              "                                   transformer_weights=None,\n",
              "                                   transformers=[('nominal',\n",
              "                                                  Pipeline(memory=None,\n",
              "                                                           steps=[('onehot',\n",
              "                                                                   OneHotEncoder(categories='auto',\n",
              "                                                                                 drop=None,\n",
              "                                                                                 dtype=<class 'numpy.float64'>,\n",
              "                                                                                 handle_unknown='ignore',\n",
              "                                                                                 sparse=False))],\n",
              "                                                           verbose=False),\n",
              "                                                  ['Primary Job Title',\n",
              "                                                   'Department', 'College'])],\n",
              "                                   verbose=False)),\n",
              "                ('scaler',\n",
              "                 StandardScaler(copy=True, with_mean=True, with_std=True)),\n",
              "                ('regressor',\n",
              "                 Ridge(alpha=10.0, copy_X=True, fit_intercept=True,\n",
              "                       max_iter=None, normalize=False, random_state=None,\n",
              "                       solver='auto', tol=0.001))],\n",
              "         verbose=False)"
            ]
          },
          "metadata": {
            "tags": []
          },
          "execution_count": 63
        }
      ]
    },
    {
      "cell_type": "code",
      "metadata": {
        "id": "j9V1UKoT_ZnA"
      },
      "source": [
        "models = {\n",
        "    'Linear Model' : build_pipeline(Ridge()),\n",
        "    'Decision Tree' : build_pipeline(DecisionTreeRegressor()),\n",
        "    'Neural Network' : build_pipeline(MLPRegressor()),\n",
        "    'Random forest' : build_pipeline(RandomForestRegressor()),\n",
        "    'Gradient Boosting' : build_pipeline(GradientBoostingRegressor())\n",
        "}"
      ],
      "execution_count": 64,
      "outputs": []
    },
    {
      "cell_type": "code",
      "metadata": {
        "id": "58B8EcNlCJjI"
      },
      "source": [
        "def evaluate_model(model, X, Y):\n",
        "    \n",
        "    kf = KFold(n_splits=5)\n",
        "    rmses = []\n",
        "    r2s = []\n",
        "    \n",
        "    for train_idx, test_idx in kf.split(X):\n",
        "        #fit model\n",
        "        model.fit(X.iloc[train_idx, :], Y.iloc[train_idx])\n",
        "        \n",
        "        #predict\n",
        "        pred = model.predict(X.iloc[test_idx, :])\n",
        "        \n",
        "        #RMSE\n",
        "        rmse = np.sqrt(np.mean((Y.iloc[test_idx] - pred)**2))\n",
        "        rmses.append(rmse)\n",
        "        \n",
        "        #R2\n",
        "        r2 = 1 - (np.sum((Y.iloc[test_idx] - pred)**2) / np.sum((Y.iloc[test_idx] - Y.iloc[test_idx].mean())**2))\n",
        "        r2s.append(r2)\n",
        "        \n",
        "    return np.mean(rmses), np.mean(r2s)"
      ],
      "execution_count": 65,
      "outputs": []
    },
    {
      "cell_type": "code",
      "metadata": {
        "colab": {
          "base_uri": "https://localhost:8080/"
        },
        "id": "dbu5WmxWG4nA",
        "outputId": "d6edef46-d9da-4fb6-ad42-e2f29dd2ea43"
      },
      "source": [
        "for name, model in models.items():\n",
        "    print(name + \" RMSE: {:.2f}\".format(evaluate_model(model, X, Y)[0]))"
      ],
      "execution_count": 73,
      "outputs": [
        {
          "output_type": "stream",
          "text": [
            "Linear Model RMSE: 28376.47\n",
            "Decision Tree RMSE: 30322.42\n",
            "Neural Network RMSE: 30859.09\n",
            "Random forest RMSE: 28968.34\n",
            "Gradient Boosting RMSE: 31498.30\n"
          ],
          "name": "stdout"
        }
      ]
    },
    {
      "cell_type": "code",
      "metadata": {
        "id": "-HTtlQ3bHVGP"
      },
      "source": [
        ""
      ],
      "execution_count": 72,
      "outputs": []
    },
    {
      "cell_type": "code",
      "metadata": {
        "colab": {
          "base_uri": "https://localhost:8080/"
        },
        "id": "uXTT4j1JHyq5",
        "outputId": "54ff015d-3f46-4456-f2d7-efe83a164e40"
      },
      "source": [
        "for name, model in models.items():\n",
        "    print(name + \" R^2: {:.5f}\".format(evaluate_model(model, X, Y)[1]))"
      ],
      "execution_count": 75,
      "outputs": [
        {
          "output_type": "stream",
          "text": [
            "Linear Model R^2: 0.63972\n",
            "Decision Tree R^2: 0.58746\n",
            "Neural Network R^2: 0.57401\n",
            "Random forest R^2: 0.62470\n",
            "Gradient Boosting R^2: 0.55605\n"
          ],
          "name": "stdout"
        }
      ]
    },
    {
      "cell_type": "code",
      "metadata": {
        "id": "bZlHpkhBJpBx"
      },
      "source": [
        ""
      ],
      "execution_count": null,
      "outputs": []
    }
  ]
}